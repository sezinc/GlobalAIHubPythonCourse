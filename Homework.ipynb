{
 "cells": [
  {
   "cell_type": "markdown",
   "metadata": {},
   "source": [
    "#Day2\n",
    "#"
   ]
  },
  {
   "cell_type": "code",
   "execution_count": 94,
   "metadata": {},
   "outputs": [
    {
     "name": "stdout",
     "output_type": "stream",
     "text": [
      "List= [0, 1, 2, 3, 4, 5, 6, 7, 8, 9]\n",
      "Swap List=  [5, 6, 7, 8, 9, 0, 1, 2, 3, 4]\n"
     ]
    }
   ],
   "source": [
    "nums2=list(range(10))\n",
    "print(\"List=\",nums2)\n",
    "\n",
    "a=int(len(nums2)/2)\n",
    "b=int(len(nums2))\n",
    "\n",
    "x=slice(0,a)\n",
    "y=slice(a,b)\n",
    "print(\"Swap List= \" ,nums2[y]+nums2[x])"
   ]
  },
  {
   "cell_type": "code",
   "execution_count": 96,
   "metadata": {},
   "outputs": [
    {
     "name": "stdout",
     "output_type": "stream",
     "text": [
      "Enter a number: 15\n",
      "0\n",
      "2\n",
      "4\n",
      "6\n",
      "8\n",
      "10\n",
      "12\n",
      "14\n"
     ]
    }
   ],
   "source": [
    "num = int(input(\"Enter a number: \"))\n",
    "for i in range(num+1):\n",
    "    if (i % 2) == 0:\n",
    "        print(i)\n"
   ]
  },
  {
   "cell_type": "markdown",
   "metadata": {},
   "source": [
    "Day3\n"
   ]
  },
  {
   "cell_type": "markdown",
   "metadata": {},
   "source": [
    "#User login application"
   ]
  },
  {
   "cell_type": "code",
   "execution_count": 15,
   "metadata": {},
   "outputs": [
    {
     "name": "stdout",
     "output_type": "stream",
     "text": [
      "Username=sez\n",
      "password123\n",
      "Check the Username\n"
     ]
    }
   ],
   "source": [
    "name=input(\"Username=\")\n",
    "password=input(\"password\")\n",
    "\n",
    "if name==\"sezin\" and password==\"123\":\n",
    "    print(\"You've passed\")\n",
    "elif name !=\"sezin\" and password ==\"123\":\n",
    "    print(\"Check the Username\")\n",
    "elif name ==\"sezin\" and password !=\"123\":\n",
    "    print(\"Check the password\")\n",
    "else:\n",
    "    print(\"Check username and password\")"
   ]
  },
  {
   "cell_type": "markdown",
   "metadata": {},
   "source": [
    "#Extra"
   ]
  },
  {
   "cell_type": "code",
   "execution_count": 21,
   "metadata": {},
   "outputs": [
    {
     "name": "stdout",
     "output_type": "stream",
     "text": [
      "Username=ayşe\n",
      "password222\n",
      "Correct username and password\n"
     ]
    }
   ],
   "source": [
    "myDict= {\"sezin\":\"123\",\n",
    "         \"mehmet\":\"111\",\n",
    "          \"ayşe\":\"222\"}\n",
    "\n",
    "name=input(\"Username=\")\n",
    "password=input(\"password\")\n",
    "\n",
    "if name in myDict.keys() and password == myDict[name]:\n",
    "    print(\"Correct username and password\")\n",
    "    pass\n",
    "else:\n",
    "    print(\"Incorrect username/password\")\n",
    "    pass"
   ]
  },
  {
   "cell_type": "markdown",
   "metadata": {},
   "source": [
    "#Day4 Prime Numbers"
   ]
  },
  {
   "cell_type": "code",
   "execution_count": 34,
   "metadata": {},
   "outputs": [
    {
     "name": "stdout",
     "output_type": "stream",
     "text": [
      "2\n",
      "3\n",
      "5\n",
      "7\n",
      "11\n",
      "13\n",
      "17\n",
      "19\n",
      "23\n",
      "29\n",
      "31\n",
      "37\n",
      "41\n",
      "43\n",
      "47\n",
      "53\n",
      "59\n",
      "61\n",
      "67\n",
      "71\n",
      "73\n",
      "79\n",
      "83\n",
      "89\n",
      "97\n"
     ]
    }
   ],
   "source": [
    "for i in range(1,101):\n",
    "    count = 0\n",
    "    for a in range(2,(i//2+1)):\n",
    "        if (i%a) == 0:\n",
    "            count=count+1\n",
    "            break\n",
    "    \n",
    "    if(count==0 and i!=1):\n",
    "        print(i)\n"
   ]
  },
  {
   "cell_type": "markdown",
   "metadata": {},
   "source": [
    "#Day-5\n"
   ]
  },
  {
   "cell_type": "code",
   "execution_count": 93,
   "metadata": {},
   "outputs": [
    {
     "name": "stdout",
     "output_type": "stream",
     "text": [
      "Dog\n",
      "Type =  vertebrates\n",
      "Classificaiton =  mammals\n",
      "Barking =  yes\n",
      "Cat\n",
      "Type =  vertebrates\n",
      "Classificaiton =  mammals\n",
      "Color =  white\n"
     ]
    }
   ],
   "source": [
    "class Animals:\n",
    "    def __init__(self,types,classificaion):\n",
    "        self.types=types                  \n",
    "        self.classificaion=classificaion  \n",
    "\n",
    "        \n",
    "class Dogs(Animals):\n",
    "    def __init__(self,types,classificaion,bark):\n",
    "        super().__init__(types,classificaion)\n",
    "        self.bark=bark\n",
    "    def yaz(self):\n",
    "        print(\"Dog\")\n",
    "        print(\"Type = \",self.types)\n",
    "        print(\"Classificaiton = \",self.classificaion)\n",
    "        print(\"Barking = \",self.bark)\n",
    "\n",
    "\n",
    "\n",
    "class Cats(Animals):\n",
    "    def __init__(self,types,classificaion,color):\n",
    "        super().__init__(types,classificaion)\n",
    "        self.color=color\n",
    "    def yaz(self):\n",
    "        print(\"Cat\")\n",
    "        print(\"Type = \",self.types)\n",
    "        print(\"Classificaiton = \",self.classificaion)\n",
    "        print(\"Color = \",self.color)\n",
    "\n",
    "\n",
    "kopek=Dogs(\"vertebrates\",\"mammals\",\"yes\")\n",
    "kopek.yaz()\n",
    "\n",
    "kedi=Cats(\"vertebrates\",\"mammals\",\"white\")\n",
    "kedi.yaz()\n",
    "\n"
   ]
  },
  {
   "cell_type": "code",
   "execution_count": null,
   "metadata": {},
   "outputs": [],
   "source": []
  }
 ],
 "metadata": {
  "kernelspec": {
   "display_name": "Python 3",
   "language": "python",
   "name": "python3"
  },
  "language_info": {
   "codemirror_mode": {
    "name": "ipython",
    "version": 3
   },
   "file_extension": ".py",
   "mimetype": "text/x-python",
   "name": "python",
   "nbconvert_exporter": "python",
   "pygments_lexer": "ipython3",
   "version": "3.8.3"
  },
  "widgets": {
   "application/vnd.jupyter.widget-state+json": {
    "state": {},
    "version_major": 2,
    "version_minor": 0
   }
  }
 },
 "nbformat": 4,
 "nbformat_minor": 4
}
