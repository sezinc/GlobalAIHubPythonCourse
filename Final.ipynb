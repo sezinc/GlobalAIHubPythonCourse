{
 "cells": [
  {
   "cell_type": "markdown",
   "metadata": {},
   "source": [
    "#Final"
   ]
  },
  {
   "cell_type": "code",
   "execution_count": 25,
   "metadata": {
    "scrolled": true
   },
   "outputs": [
    {
     "data": {
      "text/plain": [
       "['English', 'Arabic', 'Spanish']"
      ]
     },
     "execution_count": 25,
     "metadata": {},
     "output_type": "execute_result"
    }
   ],
   "source": [
    "class Person():\n",
    "    def __init__(self, name, age):\n",
    "        self.name = name\n",
    "        self.age = age\n",
    "        self.language = []\n",
    "        \n",
    "    def welcomePerson(self):\n",
    "        print(\"Hello\",self.name)\n",
    "    \n",
    "    def showAge(self):\n",
    "        print(self.age)\n",
    "        \n",
    "    def addLanguage(self,new_lang):\n",
    "        self.language.append(new_lang)\n",
    "    def showInfo(self):\n",
    "        #print(\"{} is {} years old\".format(self.name,self.age))\n",
    "        for i in self.language:\n",
    "             print(i)\n",
    "class Manager():\n",
    "    def __init__(self, isManager):\n",
    "        self.isManager = isManager\n",
    "        \n",
    "class Employees():\n",
    "    pass\n",
    "    \n",
    "   \n",
    "     \n",
    "                \n",
    "sezin=Person(\"Sezin\", 22)\n",
    "sezin.addLanguage(\"English\")\n",
    "sezin.addLanguage(\"Arabic\")\n",
    "sezin.addLanguage(\"Spanish\")\n",
    "#sezin.showInfo()\n",
    "\n",
    "ayse=Manager(Person)\n",
    "ayse=Person(\"ayse\", 23)\n",
    "ayse.addLanguage(\"French\")\n",
    "ayse.isManager=\"yes\"\n",
    "#ayse.showInfo()\n",
    "\n",
    "sezin.language\n"
   ]
  },
  {
   "cell_type": "code",
   "execution_count": null,
   "metadata": {},
   "outputs": [],
   "source": []
  }
 ],
 "metadata": {
  "kernelspec": {
   "display_name": "Python 3",
   "language": "python",
   "name": "python3"
  },
  "language_info": {
   "codemirror_mode": {
    "name": "ipython",
    "version": 3
   },
   "file_extension": ".py",
   "mimetype": "text/x-python",
   "name": "python",
   "nbconvert_exporter": "python",
   "pygments_lexer": "ipython3",
   "version": "3.8.3"
  }
 },
 "nbformat": 4,
 "nbformat_minor": 4
}
